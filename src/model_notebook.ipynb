{
 "cells": [
  {
   "cell_type": "code",
   "execution_count": 1,
   "metadata": {},
   "outputs": [],
   "source": [
    "import matplotlib.pyplot as plt\n",
    "import numpy as np\n",
    "import pandas as pd\n",
    "\n",
    "from sklearn.model_selection import train_test_split\n"
   ]
  },
  {
   "cell_type": "code",
   "execution_count": 2,
   "metadata": {},
   "outputs": [
    {
     "name": "stdout",
     "output_type": "stream",
     "text": [
      "1460\n",
      "1460\n"
     ]
    }
   ],
   "source": [
    "df_train_full=pd.read_csv('../input/train.csv')\n",
    "print(len(df_train_full))\n",
    "\n",
    "df_train_full.dropna(axis=0, subset=['SalePrice'], inplace=True)\n",
    "print(len(df_train_full))\n",
    "\n",
    "df_test_full=pd.read_csv('../input/test.csv')"
   ]
  },
  {
   "cell_type": "code",
   "execution_count": 3,
   "metadata": {},
   "outputs": [],
   "source": [
    "y = df_train_full.SalePrice\n",
    "df_train_full.drop(['SalePrice'], axis=1, inplace=True)\n",
    "X_train, X_valid, y_train, y_valid = train_test_split(df_train_full, y, train_size=0.8, test_size=0.2,random_state=0)\n"
   ]
  },
  {
   "cell_type": "code",
   "execution_count": 4,
   "metadata": {},
   "outputs": [
    {
     "name": "stdout",
     "output_type": "stream",
     "text": [
      "1168\n",
      "80\n",
      "1168\n"
     ]
    }
   ],
   "source": [
    "print(len(X_train.index))\n",
    "print(len(df_train_full.columns))\n",
    "print(len(y_train))\n"
   ]
  },
  {
   "cell_type": "markdown",
   "metadata": {},
   "source": [
    "\n",
    "\n",
    "**Taking care of null values**\n",
    "\n",
    "  Those columns that have more than 75% missing values will be dropped\n"
   ]
  },
  {
   "cell_type": "code",
   "execution_count": 5,
   "metadata": {},
   "outputs": [
    {
     "name": "stdout",
     "output_type": "stream",
     "text": [
      "Columns with missing values: ['LotFrontage' 'Alley' 'MasVnrType' 'MasVnrArea' 'BsmtQual' 'BsmtCond'\n",
      " 'BsmtExposure' 'BsmtFinType1' 'BsmtFinType2' 'Electrical' 'FireplaceQu'\n",
      " 'GarageType' 'GarageYrBlt' 'GarageFinish' 'GarageQual' 'GarageCond'\n",
      " 'PoolQC' 'Fence' 'MiscFeature']\n",
      "Columns with more than 75 percent missing values: ['Alley' 'PoolQC' 'Fence' 'MiscFeature']\n",
      "['BsmtCond' 'BsmtExposure' 'BsmtFinType1' 'BsmtFinType2' 'BsmtQual'\n",
      " 'Electrical' 'FireplaceQu' 'GarageCond' 'GarageFinish' 'GarageQual'\n",
      " 'GarageType' 'GarageYrBlt' 'LotFrontage' 'MasVnrArea' 'MasVnrType']\n"
     ]
    }
   ],
   "source": [
    "missing_val_count_by_column = (X_train.isnull().sum(axis=0))\n",
    "# print(missing_val_count_by_column['Fence'])\n",
    "\n",
    "cols_with_missing_values=np.array(missing_val_count_by_column[missing_val_count_by_column > 0].index)\n",
    "print('Columns with missing values: {}'.format((cols_with_missing_values)))\n",
    " \n",
    "cols_with_missing_more_than_75_percent =np.array(missing_val_count_by_column[missing_val_count_by_column > len(X_train.index)*(3/4)].index)\n",
    "print('Columns with more than 75 percent missing values: {}'.format((cols_with_missing_more_than_75_percent)))\n",
    "X_train=X_train.drop(cols_with_missing_more_than_75_percent,axis=1)\n",
    "X_valid=X_valid.drop(cols_with_missing_more_than_75_percent,axis=1)\n",
    "X_test=df_test_full.drop(cols_with_missing_more_than_75_percent,axis=1)\n",
    "\n",
    "\n",
    "remaining_missing_cols=np.setdiff1d(cols_with_missing_values,cols_with_missing_more_than_75_percent)\n",
    "print(remaining_missing_cols)"
   ]
  },
  {
   "cell_type": "code",
   "execution_count": 6,
   "metadata": {},
   "outputs": [],
   "source": [
    "# remove columns with high correlation\n",
    "X_train=X_train.drop(['GarageArea','GarageYrBlt'],axis=1)\n",
    "X_valid=X_valid.drop(['GarageArea','GarageYrBlt'],axis=1)\n",
    "X_test=df_test_full.drop(['GarageArea','GarageYrBlt'],axis=1)"
   ]
  },
  {
   "cell_type": "code",
   "execution_count": 7,
   "metadata": {},
   "outputs": [
    {
     "name": "stdout",
     "output_type": "stream",
     "text": [
      "39\n",
      "35\n"
     ]
    }
   ],
   "source": [
    "\n",
    "categorical_cols = [cname for cname in X_train.columns if X_train[cname].dtype == \"object\"]\n",
    "numerical_cols = [cname for cname in X_train.columns if X_train[cname].dtype in ['int64', 'float64']]\n",
    "print(len(categorical_cols))\n",
    "print(len(numerical_cols))"
   ]
  },
  {
   "cell_type": "code",
   "execution_count": 8,
   "metadata": {},
   "outputs": [],
   "source": [
    "from sklearn.compose import ColumnTransformer\n",
    "from sklearn.pipeline import Pipeline\n",
    "from sklearn.impute import SimpleImputer\n",
    "from sklearn.preprocessing import OneHotEncoder\n",
    "\n",
    "numerical_transformer = SimpleImputer(strategy='constant')\n",
    "\n",
    "categorical_transformer = Pipeline(steps=[\n",
    "    ('imputer', SimpleImputer(strategy='most_frequent')),\n",
    "    ('onehot', OneHotEncoder(handle_unknown='ignore'))\n",
    "])\n",
    "\n",
    "preprocessor = ColumnTransformer(\n",
    "    transformers=[\n",
    "        ('num', numerical_transformer, numerical_cols),\n",
    "        ('cat', categorical_transformer, categorical_cols)\n",
    "    ])"
   ]
  },
  {
   "cell_type": "code",
   "execution_count": 9,
   "metadata": {},
   "outputs": [
    {
     "data": {
      "text/plain": [
       "Pipeline(memory=None,\n",
       "         steps=[('preprocessor',\n",
       "                 ColumnTransformer(n_jobs=None, remainder='drop',\n",
       "                                   sparse_threshold=0.3,\n",
       "                                   transformer_weights=None,\n",
       "                                   transformers=[('num',\n",
       "                                                  SimpleImputer(add_indicator=False,\n",
       "                                                                copy=True,\n",
       "                                                                fill_value=None,\n",
       "                                                                missing_values=nan,\n",
       "                                                                strategy='constant',\n",
       "                                                                verbose=0),\n",
       "                                                  ['Id', 'MSSubClass',\n",
       "                                                   'LotFrontage', 'LotArea',\n",
       "                                                   'OverallQual', 'OverallCond',\n",
       "                                                   'YearBuilt'...\n",
       "                              interaction_constraints='', learning_rate=0.05,\n",
       "                              max_delta_step=0, max_depth=6, min_child_weight=1,\n",
       "                              missing=nan, monotone_constraints='()',\n",
       "                              n_estimators=1000, n_jobs=4, num_parallel_tree=1,\n",
       "                              objective='reg:squarederror', random_state=0,\n",
       "                              reg_alpha=0, reg_lambda=1, scale_pos_weight=1,\n",
       "                              subsample=1, tree_method='exact',\n",
       "                              validate_parameters=1, verbosity=None))],\n",
       "         verbose=False)"
      ]
     },
     "execution_count": 9,
     "metadata": {},
     "output_type": "execute_result"
    }
   ],
   "source": [
    "from xgboost import XGBRegressor\n",
    "\n",
    "xgb_model = XGBRegressor(n_estimators=1000, learning_rate=0.05, n_jobs=4)\n",
    "\n",
    "\n",
    "\n",
    "\n",
    "# my_model_1 = XGBRegressor(random_state=0) \n",
    "# model = RandomForestRegressor(n_estimators=100, criterion='mae',random_state=0)\n",
    "\n",
    "\n",
    "pipeline = Pipeline(steps=[('preprocessor', preprocessor),\n",
    "                              ('model', xgb_model)\n",
    "                             ])\n",
    "\n",
    "pipeline.fit(X_train, y_train)"
   ]
  },
  {
   "cell_type": "code",
   "execution_count": 10,
   "metadata": {},
   "outputs": [
    {
     "name": "stdout",
     "output_type": "stream",
     "text": [
      "MAE: 15997.046099101028\n"
     ]
    }
   ],
   "source": [
    "from sklearn.metrics import mean_absolute_error\n",
    "preds = pipeline.predict(X_valid)\n",
    "# Evaluate the model\n",
    "score = mean_absolute_error(y_valid, preds)\n",
    "print('MAE:', score)"
   ]
  },
  {
   "cell_type": "code",
   "execution_count": 11,
   "metadata": {},
   "outputs": [],
   "source": [
    "from sklearn.linear_model import Lasso\n",
    "from sklearn.linear_model import LinearRegression\n",
    "from sklearn.linear_model import Ridge\n",
    "from sklearn.linear_model import ElasticNet\n",
    "from sklearn.neighbors import KNeighborsRegressor\n",
    "from sklearn.svm import SVR\n",
    "from sklearn.ensemble import RandomForestRegressor\n",
    "from sklearn.ensemble import GradientBoostingRegressor\n",
    "from sklearn.ensemble import AdaBoostRegressor\n",
    "from sklearn.tree import DecisionTreeRegressor\n",
    "from xgboost import XGBRegressor"
   ]
  },
  {
   "cell_type": "code",
   "execution_count": 15,
   "metadata": {},
   "outputs": [
    {
     "name": "stderr",
     "output_type": "stream",
     "text": [
      "<ipython-input-15-3a8f319f46f8>:1: DeprecationWarning: The default dtype for empty Series will be 'object' instead of 'float64' in a future version. Specify a dtype explicitly to silence this warning.\n",
      "  mae_compare = pd.Series()\n"
     ]
    },
    {
     "name": "stdout",
     "output_type": "stream",
     "text": [
      "MAE values for different algorithms:\n"
     ]
    },
    {
     "name": "stderr",
     "output_type": "stream",
     "text": [
      "C:\\Users\\Dimitar\\anaconda3\\envs\\myenv\\lib\\site-packages\\sklearn\\linear_model\\_coordinate_descent.py:457: ConvergenceWarning: Objective did not converge. You might want to increase the number of iterations. Duality gap: 168802918327.62924, tolerance: 719132949.923008\n",
      "  model = cd_fast.sparse_enet_coordinate_descent(\n"
     ]
    },
    {
     "data": {
      "text/plain": [
       "Algorithm\n",
       "XGBRegressor        15997.0\n",
       "RandomForest        17351.0\n",
       "Lasso               22192.0\n",
       "LinearRegression    22856.0\n",
       "dtype: float64"
      ]
     },
     "execution_count": 15,
     "metadata": {},
     "output_type": "execute_result"
    }
   ],
   "source": [
    "mae_compare = pd.Series()\n",
    "mae_compare.index.name = 'Algorithm'\n",
    "\n",
    "mae_compare['XGBRegressor'] = score\n",
    "\n",
    "\n",
    "rf_model = RandomForestRegressor(random_state=3)\n",
    "\n",
    "pipeline = Pipeline(steps=[('preprocessor', preprocessor),\n",
    "                              ('rf_model', rf_model)\n",
    "                          ])\n",
    "pipeline.fit(X_train, y_train)\n",
    "rf_val_mae = mean_absolute_error(pipeline.predict(X_valid), y_valid)\n",
    "mae_compare['RandomForest'] = rf_val_mae\n",
    "\n",
    "\n",
    "\n",
    "\n",
    "linear_model = LinearRegression()\n",
    "pipeline = Pipeline(steps=[('preprocessor', preprocessor),\n",
    "                              ('linear_model', linear_model)\n",
    "                          ])\n",
    "pipeline.fit(X_train, y_train)\n",
    "linear_val_mae = mean_absolute_error(pipeline.predict(X_valid), y_valid)\n",
    "mae_compare['LinearRegression'] = linear_val_mae\n",
    "\n",
    "\n",
    "\n",
    "\n",
    "lasso_model = Lasso(alpha=0.0005, random_state=5)\n",
    "pipeline = Pipeline(steps=[('preprocessor', preprocessor),\n",
    "                              ('lasso_model', lasso_model)\n",
    "                          ])\n",
    "pipeline.fit(X_train, y_train)\n",
    "lasso_val_mae = mean_absolute_error(pipeline.predict(X_valid), y_valid)\n",
    "mae_compare['Lasso'] = lasso_val_mae\n",
    "\n",
    "\n",
    "\n",
    "print('MAE values for different algorithms:')\n",
    "mae_compare.sort_values(ascending=True).round()\n"
   ]
  },
  {
   "cell_type": "code",
   "execution_count": null,
   "metadata": {},
   "outputs": [],
   "source": []
  }
 ],
 "metadata": {
  "kernelspec": {
   "display_name": "Python 3",
   "language": "python",
   "name": "python3"
  },
  "language_info": {
   "codemirror_mode": {
    "name": "ipython",
    "version": 3
   },
   "file_extension": ".py",
   "mimetype": "text/x-python",
   "name": "python",
   "nbconvert_exporter": "python",
   "pygments_lexer": "ipython3",
   "version": "3.8.2"
  }
 },
 "nbformat": 4,
 "nbformat_minor": 4
}
