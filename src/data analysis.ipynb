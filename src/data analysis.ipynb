{
 "cells": [
  {
   "cell_type": "code",
   "execution_count": 1,
   "metadata": {},
   "outputs": [],
   "source": [
    "import matplotlib.pyplot as plt\n",
    "import numpy as np\n",
    "import pandas as pd\n",
    "\n",
    "from sklearn.model_selection import train_test_split\n"
   ]
  },
  {
   "cell_type": "code",
   "execution_count": 2,
   "metadata": {},
   "outputs": [
    {
     "name": "stdout",
     "output_type": "stream",
     "text": [
      "1460\n",
      "1460\n"
     ]
    }
   ],
   "source": [
    "df_train_full=pd.read_csv('../input/train.csv')\n",
    "print(len(df_train_full))\n",
    "\n",
    "df_train_full.dropna(axis=0, subset=['SalePrice'], inplace=True)\n",
    "print(len(df_train_full))"
   ]
  },
  {
   "cell_type": "code",
   "execution_count": 3,
   "metadata": {},
   "outputs": [],
   "source": [
    "y = df_train_full.SalePrice\n",
    "df_train_full.drop(['SalePrice'], axis=1, inplace=True)\n",
    "X_train, X_valid, y_train, y_valid = train_test_split(df_train_full, y, train_size=0.8, test_size=0.2,random_state=0)\n"
   ]
  },
  {
   "cell_type": "markdown",
   "metadata": {},
   "source": [
    "\n",
    "\n"
   ]
  },
  {
   "cell_type": "code",
   "execution_count": 4,
   "metadata": {},
   "outputs": [
    {
     "name": "stdout",
     "output_type": "stream",
     "text": [
      "1168\n",
      "80\n",
      "1168\n"
     ]
    }
   ],
   "source": [
    "print(len(X_train.index))\n",
    "print(len(df_train_full.columns))\n",
    "print(len(y_train))\n"
   ]
  },
  {
   "cell_type": "markdown",
   "metadata": {},
   "source": [
    "\n",
    "\n",
    "**Taking care of null values**\n",
    "\n",
    "  Those columns that have more than 75% missing values will be dropped\n"
   ]
  },
  {
   "cell_type": "code",
   "execution_count": 5,
   "metadata": {},
   "outputs": [
    {
     "name": "stdout",
     "output_type": "stream",
     "text": [
      "Columns with missing values: ['LotFrontage' 'Alley' 'MasVnrType' 'MasVnrArea' 'BsmtQual' 'BsmtCond'\n",
      " 'BsmtExposure' 'BsmtFinType1' 'BsmtFinType2' 'Electrical' 'FireplaceQu'\n",
      " 'GarageType' 'GarageYrBlt' 'GarageFinish' 'GarageQual' 'GarageCond'\n",
      " 'PoolQC' 'Fence' 'MiscFeature']\n",
      "Columns with more than 75 percent missing values: ['Alley' 'PoolQC' 'Fence' 'MiscFeature']\n"
     ]
    }
   ],
   "source": [
    "missing_val_count_by_column = (X_train.isnull().sum(axis=0))\n",
    "# print(missing_val_count_by_column['Fence'])\n",
    "\n",
    "cols_with_missing_values=np.array(missing_val_count_by_column[missing_val_count_by_column > 0].index)\n",
    "print('Columns with missing values: {}'.format((cols_with_missing_values)))\n",
    " \n",
    "cols_with_missing_more_than_75_percent =np.array(missing_val_count_by_column[missing_val_count_by_column > len(X_train.index)*(3/4)].index)\n",
    "print('Columns with more than 75 percent missing values: {}'.format((cols_with_missing_more_than_75_percent)))\n",
    "\n",
    "X_train=X_train.drop(cols_with_missing_more_than_75_percent,axis=1)\n",
    "X_valid=X_valid.drop(cols_with_missing_more_than_75_percent,axis=1)\n",
    "\n",
    "remaining_cols=np.setdiff1d(cols_with_missing_values,cols_with_missing_more_than_75_percent)\n"
   ]
  },
  {
   "cell_type": "code",
   "execution_count": 16,
   "metadata": {},
   "outputs": [
    {
     "name": "stdout",
     "output_type": "stream",
     "text": [
      "Id                 0\n",
      "MSSubClass         0\n",
      "MSZoning           0\n",
      "LotFrontage      212\n",
      "LotArea            0\n",
      "                ... \n",
      "MiscVal            0\n",
      "MoSold             0\n",
      "YrSold             0\n",
      "SaleType           0\n",
      "SaleCondition      0\n",
      "Length: 76, dtype: int64\n"
     ]
    }
   ],
   "source": [
    "checking=(X_train.isnull().sum(axis=0))\n",
    "print(checking)"
   ]
  },
  {
   "cell_type": "code",
   "execution_count": 18,
   "metadata": {},
   "outputs": [
    {
     "name": "stdout",
     "output_type": "stream",
     "text": [
      "39\n",
      "37\n"
     ]
    }
   ],
   "source": [
    "\n",
    "categorical_cols = [cname for cname in X_train.columns if X_train[cname].dtype == \"object\"]\n",
    "numerical_cols = [cname for cname in X_train.columns if X_train[cname].dtype in ['int64', 'float64']]\n",
    "print(len(categorical_cols))\n",
    "print(len(numerical_cols))"
   ]
  },
  {
   "cell_type": "code",
   "execution_count": 20,
   "metadata": {},
   "outputs": [
    {
     "name": "stdout",
     "output_type": "stream",
     "text": [
      "0 MSZoning\n",
      "0 Street\n",
      "0 LotShape\n",
      "0 LandContour\n",
      "0 Utilities\n",
      "0 LotConfig\n",
      "0 LandSlope\n",
      "0 Neighborhood\n",
      "0 Condition1\n",
      "0 Condition2\n",
      "0 BldgType\n",
      "0 HouseStyle\n",
      "0 RoofStyle\n",
      "0 RoofMatl\n",
      "0 Exterior1st\n",
      "0 Exterior2nd\n",
      "6 MasVnrType\n",
      "0 ExterQual\n",
      "0 ExterCond\n",
      "0 Foundation\n",
      "28 BsmtQual\n",
      "28 BsmtCond\n",
      "28 BsmtExposure\n",
      "28 BsmtFinType1\n",
      "29 BsmtFinType2\n",
      "0 Heating\n",
      "0 HeatingQC\n",
      "0 CentralAir\n",
      "1 Electrical\n",
      "0 KitchenQual\n",
      "0 Functional\n",
      "551 FireplaceQu\n",
      "58 GarageType\n",
      "58 GarageFinish\n",
      "58 GarageQual\n",
      "58 GarageCond\n",
      "0 PavedDrive\n",
      "0 SaleType\n",
      "0 SaleCondition\n",
      "------\n",
      "0 Id\n",
      "0 MSSubClass\n",
      "212 LotFrontage\n",
      "0 LotArea\n",
      "0 OverallQual\n",
      "0 OverallCond\n",
      "0 YearBuilt\n",
      "0 YearRemodAdd\n",
      "6 MasVnrArea\n",
      "0 BsmtFinSF1\n",
      "0 BsmtFinSF2\n",
      "0 BsmtUnfSF\n",
      "0 TotalBsmtSF\n",
      "0 1stFlrSF\n",
      "0 2ndFlrSF\n",
      "0 LowQualFinSF\n",
      "0 GrLivArea\n",
      "0 BsmtFullBath\n",
      "0 BsmtHalfBath\n",
      "0 FullBath\n",
      "0 HalfBath\n",
      "0 BedroomAbvGr\n",
      "0 KitchenAbvGr\n",
      "0 TotRmsAbvGrd\n",
      "0 Fireplaces\n",
      "58 GarageYrBlt\n",
      "0 GarageCars\n",
      "0 GarageArea\n",
      "0 WoodDeckSF\n",
      "0 OpenPorchSF\n",
      "0 EnclosedPorch\n",
      "0 3SsnPorch\n",
      "0 ScreenPorch\n",
      "0 PoolArea\n",
      "0 MiscVal\n",
      "0 MoSold\n",
      "0 YrSold\n"
     ]
    }
   ],
   "source": [
    "for c in categorical_cols:\n",
    "    print(checking[c],c)\n",
    "print('------')\n",
    "for c in numerical_cols:\n",
    "    print(checking[c],c)  "
   ]
  },
  {
   "cell_type": "code",
   "execution_count": 22,
   "metadata": {},
   "outputs": [],
   "source": [
    "from sklearn.compose import ColumnTransformer\n",
    "from sklearn.pipeline import Pipeline\n",
    "from sklearn.impute import SimpleImputer\n",
    "from sklearn.preprocessing import OneHotEncoder\n",
    "\n",
    "# Preprocessing for numerical data\n",
    "numerical_transformer = SimpleImputer(strategy='constant')\n",
    "\n",
    "# Preprocessing for categorical data\n",
    "categorical_transformer = Pipeline(steps=[\n",
    "    ('imputer', SimpleImputer(strategy='most_frequent')),\n",
    "    ('onehot', OneHotEncoder(handle_unknown='ignore'))\n",
    "])\n",
    "\n",
    "# Bundle preprocessing for numerical and categorical data\n",
    "preprocessor = ColumnTransformer(\n",
    "    transformers=[\n",
    "        ('num', numerical_transformer, numerical_cols),\n",
    "        ('cat', categorical_transformer, categorical_cols)\n",
    "    ])"
   ]
  },
  {
   "cell_type": "code",
   "execution_count": 23,
   "metadata": {},
   "outputs": [
    {
     "data": {
      "text/plain": [
       "Pipeline(memory=None,\n",
       "         steps=[('preprocessor',\n",
       "                 ColumnTransformer(n_jobs=None, remainder='drop',\n",
       "                                   sparse_threshold=0.3,\n",
       "                                   transformer_weights=None,\n",
       "                                   transformers=[('num',\n",
       "                                                  SimpleImputer(add_indicator=False,\n",
       "                                                                copy=True,\n",
       "                                                                fill_value=None,\n",
       "                                                                missing_values=nan,\n",
       "                                                                strategy='constant',\n",
       "                                                                verbose=0),\n",
       "                                                  ['Id', 'MSSubClass',\n",
       "                                                   'LotFrontage', 'LotArea',\n",
       "                                                   'OverallQual', 'OverallCond',\n",
       "                                                   'YearBuilt'...\n",
       "                              interaction_constraints='', learning_rate=0.05,\n",
       "                              max_delta_step=0, max_depth=6, min_child_weight=1,\n",
       "                              missing=nan, monotone_constraints='()',\n",
       "                              n_estimators=500, n_jobs=4, num_parallel_tree=1,\n",
       "                              objective='reg:squarederror', random_state=0,\n",
       "                              reg_alpha=0, reg_lambda=1, scale_pos_weight=1,\n",
       "                              subsample=1, tree_method='exact',\n",
       "                              validate_parameters=1, verbosity=None))],\n",
       "         verbose=False)"
      ]
     },
     "execution_count": 23,
     "metadata": {},
     "output_type": "execute_result"
    }
   ],
   "source": [
    "from sklearn.ensemble import RandomForestRegressor\n",
    "from xgboost import XGBRegressor\n",
    "\n",
    "xgb_model = XGBRegressor(n_estimators=500, learning_rate=0.05, n_jobs=4)\n",
    "\n",
    "\n",
    "\n",
    "\n",
    "# my_model_1 = XGBRegressor(random_state=0) # Your code here\n",
    "# model = RandomForestRegressor(n_estimators=100, criterion='mae',random_state=0)\n",
    "\n",
    "\n",
    "pipeline = Pipeline(steps=[('preprocessor', preprocessor),\n",
    "                              ('model', xgb_model)\n",
    "                             ])\n",
    "\n",
    "# Preprocessing of training data, fit model \n",
    "pipeline.fit(X_train, y_train)"
   ]
  },
  {
   "cell_type": "code",
   "execution_count": 24,
   "metadata": {},
   "outputs": [
    {
     "name": "stdout",
     "output_type": "stream",
     "text": [
      "MAE: 15961.457539597603\n"
     ]
    }
   ],
   "source": [
    "from sklearn.metrics import mean_absolute_error\n",
    "preds = pipeline.predict(X_valid)\n",
    "\n",
    "# Evaluate the model\n",
    "score = mean_absolute_error(y_valid, preds)\n",
    "print('MAE:', score)"
   ]
  },
  {
   "cell_type": "code",
   "execution_count": 25,
   "metadata": {},
   "outputs": [],
   "source": [
    "test_df=pd.read_csv('../input/test.csv')\n"
   ]
  },
  {
   "cell_type": "code",
   "execution_count": 26,
   "metadata": {},
   "outputs": [
    {
     "name": "stdout",
     "output_type": "stream",
     "text": [
      "        Id  MSSubClass MSZoning  LotFrontage  LotArea Street Alley LotShape  \\\n",
      "0     1461          20       RH         80.0    11622   Pave   NaN      Reg   \n",
      "1     1462          20       RL         81.0    14267   Pave   NaN      IR1   \n",
      "2     1463          60       RL         74.0    13830   Pave   NaN      IR1   \n",
      "3     1464          60       RL         78.0     9978   Pave   NaN      IR1   \n",
      "4     1465         120       RL         43.0     5005   Pave   NaN      IR1   \n",
      "...    ...         ...      ...          ...      ...    ...   ...      ...   \n",
      "1454  2915         160       RM         21.0     1936   Pave   NaN      Reg   \n",
      "1455  2916         160       RM         21.0     1894   Pave   NaN      Reg   \n",
      "1456  2917          20       RL        160.0    20000   Pave   NaN      Reg   \n",
      "1457  2918          85       RL         62.0    10441   Pave   NaN      Reg   \n",
      "1458  2919          60       RL         74.0     9627   Pave   NaN      Reg   \n",
      "\n",
      "     LandContour Utilities  ... ScreenPorch PoolArea PoolQC  Fence  \\\n",
      "0            Lvl    AllPub  ...         120        0    NaN  MnPrv   \n",
      "1            Lvl    AllPub  ...           0        0    NaN    NaN   \n",
      "2            Lvl    AllPub  ...           0        0    NaN  MnPrv   \n",
      "3            Lvl    AllPub  ...           0        0    NaN    NaN   \n",
      "4            HLS    AllPub  ...         144        0    NaN    NaN   \n",
      "...          ...       ...  ...         ...      ...    ...    ...   \n",
      "1454         Lvl    AllPub  ...           0        0    NaN    NaN   \n",
      "1455         Lvl    AllPub  ...           0        0    NaN    NaN   \n",
      "1456         Lvl    AllPub  ...           0        0    NaN    NaN   \n",
      "1457         Lvl    AllPub  ...           0        0    NaN  MnPrv   \n",
      "1458         Lvl    AllPub  ...           0        0    NaN    NaN   \n",
      "\n",
      "     MiscFeature MiscVal MoSold  YrSold  SaleType  SaleCondition  \n",
      "0            NaN       0      6    2010        WD         Normal  \n",
      "1           Gar2   12500      6    2010        WD         Normal  \n",
      "2            NaN       0      3    2010        WD         Normal  \n",
      "3            NaN       0      6    2010        WD         Normal  \n",
      "4            NaN       0      1    2010        WD         Normal  \n",
      "...          ...     ...    ...     ...       ...            ...  \n",
      "1454         NaN       0      6    2006        WD         Normal  \n",
      "1455         NaN       0      4    2006        WD        Abnorml  \n",
      "1456         NaN       0      9    2006        WD        Abnorml  \n",
      "1457        Shed     700      7    2006        WD         Normal  \n",
      "1458         NaN       0     11    2006        WD         Normal  \n",
      "\n",
      "[1459 rows x 80 columns]\n"
     ]
    }
   ],
   "source": [
    "print(test_df)"
   ]
  },
  {
   "cell_type": "code",
   "execution_count": 37,
   "metadata": {},
   "outputs": [],
   "source": [
    "X_test=test_df.drop(cols_with_missing_more_than_75_percent,axis=1)\n",
    "predicts= pipeline.predict(X_test)\n",
    "sub_df=pd.DataFrame({'Id':X_test.Id,'SalePrice':predicts})\n",
    "sub_df.to_csv('../output/xgboost_submission.csv',index=False)"
   ]
  },
  {
   "cell_type": "code",
   "execution_count": null,
   "metadata": {},
   "outputs": [],
   "source": []
  }
 ],
 "metadata": {
  "kernelspec": {
   "display_name": "Python 3",
   "language": "python",
   "name": "python3"
  },
  "language_info": {
   "codemirror_mode": {
    "name": "ipython",
    "version": 3
   },
   "file_extension": ".py",
   "mimetype": "text/x-python",
   "name": "python",
   "nbconvert_exporter": "python",
   "pygments_lexer": "ipython3",
   "version": "3.8.2"
  }
 },
 "nbformat": 4,
 "nbformat_minor": 4
}
